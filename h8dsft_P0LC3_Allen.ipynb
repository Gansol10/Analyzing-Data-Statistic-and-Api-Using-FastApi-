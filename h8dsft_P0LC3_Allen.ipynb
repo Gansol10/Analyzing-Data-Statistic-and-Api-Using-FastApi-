{
  "cells": [
    {
      "cell_type": "markdown",
      "metadata": {
        "id": "KOObLCFDGvad"
      },
      "source": [
        "Perkenalan\n",
        "\n",
        "Nama : Allen\n",
        "\n",
        "Batch: FTDS_BSD_003\n",
        "\n",
        "Objective dan problem statement: menganalisis data dari big querry dengan data set chicago_taxi_trips dan tabel taxi_trips dengan hanya menganalisis kolom\n",
        "trip_seconds untuk dideteksi adakah outlier dengan cara menghitung quantile,mean,median,modus,standard deviasi,kurtosis,dan skewness untuk output yaitu menghilangkan data outlier dan menyimpan file dalam bentuk csv dan membuat API nya"
      ]
    },
    {
      "cell_type": "code",
      "execution_count": null,
      "metadata": {},
      "outputs": [],
      "source": [
        "#Untuk menghubungkan google collabs dengan bigquery data\n",
        "from google.colab import auth\n",
        "from google.cloud import bigquery\n",
        "auth.authenticate_user()\n",
        "print('Authenticated')\n",
        "\n",
        "project_id_akun = \"allen-project-406304\" #GUNAKAN GCP PROJECT-ID KALIAN MASING-MASING\n",
        "client = bigquery.Client(project=project_id_akun)"
      ]
    },
    {
      "cell_type": "code",
      "execution_count": null,
      "metadata": {
        "colab": {
          "base_uri": "https://localhost:8080/",
          "height": 704
        },
        "id": "tU3S4ZRFr7XX",
        "outputId": "54ed3ca7-9392-4f3c-8c0b-d516c2e7f9a6"
      },
      "outputs": [
        {
          "data": {
            "text/html": [
              "\n",
              "  <div id=\"df-03dc688b-172d-4e32-8127-f681f142e029\" class=\"colab-df-container\">\n",
              "    <div>\n",
              "<style scoped>\n",
              "    .dataframe tbody tr th:only-of-type {\n",
              "        vertical-align: middle;\n",
              "    }\n",
              "\n",
              "    .dataframe tbody tr th {\n",
              "        vertical-align: top;\n",
              "    }\n",
              "\n",
              "    .dataframe thead th {\n",
              "        text-align: right;\n",
              "    }\n",
              "</style>\n",
              "<table border=\"1\" class=\"dataframe\">\n",
              "  <thead>\n",
              "    <tr style=\"text-align: right;\">\n",
              "      <th></th>\n",
              "      <th>unique_key</th>\n",
              "      <th>taxi_id</th>\n",
              "      <th>trip_start_timestamp</th>\n",
              "      <th>trip_end_timestamp</th>\n",
              "      <th>trip_seconds</th>\n",
              "      <th>trip_miles</th>\n",
              "      <th>pickup_census_tract</th>\n",
              "      <th>dropoff_census_tract</th>\n",
              "      <th>pickup_community_area</th>\n",
              "      <th>dropoff_community_area</th>\n",
              "      <th>...</th>\n",
              "      <th>extras</th>\n",
              "      <th>trip_total</th>\n",
              "      <th>payment_type</th>\n",
              "      <th>company</th>\n",
              "      <th>pickup_latitude</th>\n",
              "      <th>pickup_longitude</th>\n",
              "      <th>pickup_location</th>\n",
              "      <th>dropoff_latitude</th>\n",
              "      <th>dropoff_longitude</th>\n",
              "      <th>dropoff_location</th>\n",
              "    </tr>\n",
              "  </thead>\n",
              "  <tbody>\n",
              "    <tr>\n",
              "      <th>0</th>\n",
              "      <td>264842572f7c417a819abc88eb58486e92093544</td>\n",
              "      <td>ed238058c7dc5cdd8c0284e8a08127663e304f98bdbfe5...</td>\n",
              "      <td>2016-02-22 14:45:00+00:00</td>\n",
              "      <td>2016-02-22 14:45:00+00:00</td>\n",
              "      <td>274</td>\n",
              "      <td>1.3</td>\n",
              "      <td>&lt;NA&gt;</td>\n",
              "      <td>&lt;NA&gt;</td>\n",
              "      <td>&lt;NA&gt;</td>\n",
              "      <td>&lt;NA&gt;</td>\n",
              "      <td>...</td>\n",
              "      <td>0.0</td>\n",
              "      <td>5.00</td>\n",
              "      <td>Cash</td>\n",
              "      <td>303 Taxi</td>\n",
              "      <td>NaN</td>\n",
              "      <td>NaN</td>\n",
              "      <td>None</td>\n",
              "      <td>NaN</td>\n",
              "      <td>NaN</td>\n",
              "      <td>None</td>\n",
              "    </tr>\n",
              "    <tr>\n",
              "      <th>1</th>\n",
              "      <td>097e39a4e59f97b2f8219f22adc87870dc10e4ca</td>\n",
              "      <td>f2a51ce2b77dc0e2bdc3a56c25175872e5ed2d9367cdfe...</td>\n",
              "      <td>2016-03-19 18:00:00+00:00</td>\n",
              "      <td>2016-03-19 18:00:00+00:00</td>\n",
              "      <td>840</td>\n",
              "      <td>4.6</td>\n",
              "      <td>&lt;NA&gt;</td>\n",
              "      <td>&lt;NA&gt;</td>\n",
              "      <td>&lt;NA&gt;</td>\n",
              "      <td>&lt;NA&gt;</td>\n",
              "      <td>...</td>\n",
              "      <td>1.0</td>\n",
              "      <td>14.00</td>\n",
              "      <td>Cash</td>\n",
              "      <td>303 Taxi</td>\n",
              "      <td>NaN</td>\n",
              "      <td>NaN</td>\n",
              "      <td>None</td>\n",
              "      <td>NaN</td>\n",
              "      <td>NaN</td>\n",
              "      <td>None</td>\n",
              "    </tr>\n",
              "    <tr>\n",
              "      <th>2</th>\n",
              "      <td>7da56faefa59dbfc714897f74cb4a2da4b7e6d23</td>\n",
              "      <td>f2a51ce2b77dc0e2bdc3a56c25175872e5ed2d9367cdfe...</td>\n",
              "      <td>2016-03-19 18:15:00+00:00</td>\n",
              "      <td>2016-03-19 18:15:00+00:00</td>\n",
              "      <td>3</td>\n",
              "      <td>0.0</td>\n",
              "      <td>&lt;NA&gt;</td>\n",
              "      <td>&lt;NA&gt;</td>\n",
              "      <td>&lt;NA&gt;</td>\n",
              "      <td>&lt;NA&gt;</td>\n",
              "      <td>...</td>\n",
              "      <td>0.0</td>\n",
              "      <td>2.00</td>\n",
              "      <td>Cash</td>\n",
              "      <td>303 Taxi</td>\n",
              "      <td>NaN</td>\n",
              "      <td>NaN</td>\n",
              "      <td>None</td>\n",
              "      <td>NaN</td>\n",
              "      <td>NaN</td>\n",
              "      <td>None</td>\n",
              "    </tr>\n",
              "    <tr>\n",
              "      <th>3</th>\n",
              "      <td>a0d37ccae04de5ed9b80741c24fea5dd729d6839</td>\n",
              "      <td>efdd945628afebed6c6d7e4d374a04b6206a967e58831c...</td>\n",
              "      <td>2016-08-19 04:15:00+00:00</td>\n",
              "      <td>2016-08-19 04:45:00+00:00</td>\n",
              "      <td>1320</td>\n",
              "      <td>15.1</td>\n",
              "      <td>&lt;NA&gt;</td>\n",
              "      <td>&lt;NA&gt;</td>\n",
              "      <td>&lt;NA&gt;</td>\n",
              "      <td>&lt;NA&gt;</td>\n",
              "      <td>...</td>\n",
              "      <td>0.0</td>\n",
              "      <td>8.01</td>\n",
              "      <td>Credit Card</td>\n",
              "      <td>303 Taxi</td>\n",
              "      <td>NaN</td>\n",
              "      <td>NaN</td>\n",
              "      <td>None</td>\n",
              "      <td>NaN</td>\n",
              "      <td>NaN</td>\n",
              "      <td>None</td>\n",
              "    </tr>\n",
              "    <tr>\n",
              "      <th>4</th>\n",
              "      <td>642a6816f510ee4703e1d2e71d0c38451e866818</td>\n",
              "      <td>36c2bd847a85271f4c3e2805a096468a2f4bc1282c9a36...</td>\n",
              "      <td>2016-03-23 14:15:00+00:00</td>\n",
              "      <td>2016-03-23 14:15:00+00:00</td>\n",
              "      <td>283</td>\n",
              "      <td>2.2</td>\n",
              "      <td>&lt;NA&gt;</td>\n",
              "      <td>&lt;NA&gt;</td>\n",
              "      <td>&lt;NA&gt;</td>\n",
              "      <td>&lt;NA&gt;</td>\n",
              "      <td>...</td>\n",
              "      <td>0.0</td>\n",
              "      <td>6.60</td>\n",
              "      <td>Cash</td>\n",
              "      <td>303 Taxi</td>\n",
              "      <td>NaN</td>\n",
              "      <td>NaN</td>\n",
              "      <td>None</td>\n",
              "      <td>NaN</td>\n",
              "      <td>NaN</td>\n",
              "      <td>None</td>\n",
              "    </tr>\n",
              "    <tr>\n",
              "      <th>...</th>\n",
              "      <td>...</td>\n",
              "      <td>...</td>\n",
              "      <td>...</td>\n",
              "      <td>...</td>\n",
              "      <td>...</td>\n",
              "      <td>...</td>\n",
              "      <td>...</td>\n",
              "      <td>...</td>\n",
              "      <td>...</td>\n",
              "      <td>...</td>\n",
              "      <td>...</td>\n",
              "      <td>...</td>\n",
              "      <td>...</td>\n",
              "      <td>...</td>\n",
              "      <td>...</td>\n",
              "      <td>...</td>\n",
              "      <td>...</td>\n",
              "      <td>...</td>\n",
              "      <td>...</td>\n",
              "      <td>...</td>\n",
              "      <td>...</td>\n",
              "    </tr>\n",
              "    <tr>\n",
              "      <th>2995</th>\n",
              "      <td>ac8789e7b1fd82b43a1f3e587e08f680fd11d66a</td>\n",
              "      <td>9fe9b90b64c0c87afbb61dc85407a5211118cb8f176c0f...</td>\n",
              "      <td>2013-09-08 17:00:00+00:00</td>\n",
              "      <td>2013-09-08 17:15:00+00:00</td>\n",
              "      <td>1380</td>\n",
              "      <td>13.3</td>\n",
              "      <td>&lt;NA&gt;</td>\n",
              "      <td>&lt;NA&gt;</td>\n",
              "      <td>56</td>\n",
              "      <td>41</td>\n",
              "      <td>...</td>\n",
              "      <td>5.0</td>\n",
              "      <td>33.85</td>\n",
              "      <td>Cash</td>\n",
              "      <td>None</td>\n",
              "      <td>41.792592</td>\n",
              "      <td>-87.769615</td>\n",
              "      <td>POINT (-87.7696154528 41.7925923603)</td>\n",
              "      <td>41.79409</td>\n",
              "      <td>-87.592311</td>\n",
              "      <td>POINT (-87.592310855 41.794090253)</td>\n",
              "    </tr>\n",
              "    <tr>\n",
              "      <th>2996</th>\n",
              "      <td>d20d6ad2193cdb56537abb3b85a6b542fd2c042c</td>\n",
              "      <td>fce5ce375d93bcded7c5006c25c5b82414269dd8e1607e...</td>\n",
              "      <td>2013-09-11 12:30:00+00:00</td>\n",
              "      <td>2013-09-11 13:15:00+00:00</td>\n",
              "      <td>2220</td>\n",
              "      <td>9.3</td>\n",
              "      <td>&lt;NA&gt;</td>\n",
              "      <td>&lt;NA&gt;</td>\n",
              "      <td>56</td>\n",
              "      <td>41</td>\n",
              "      <td>...</td>\n",
              "      <td>0.0</td>\n",
              "      <td>25.05</td>\n",
              "      <td>Cash</td>\n",
              "      <td>None</td>\n",
              "      <td>41.792592</td>\n",
              "      <td>-87.769615</td>\n",
              "      <td>POINT (-87.7696154528 41.7925923603)</td>\n",
              "      <td>41.79409</td>\n",
              "      <td>-87.592311</td>\n",
              "      <td>POINT (-87.592310855 41.794090253)</td>\n",
              "    </tr>\n",
              "    <tr>\n",
              "      <th>2997</th>\n",
              "      <td>a89c28c9d046f07660e54ed0b94dca19e4fda0ea</td>\n",
              "      <td>576668e9f2eb87c779550d5aa5efd3a5ea2c837ce1ac6b...</td>\n",
              "      <td>2013-09-07 20:15:00+00:00</td>\n",
              "      <td>2013-09-07 20:45:00+00:00</td>\n",
              "      <td>1740</td>\n",
              "      <td>14.4</td>\n",
              "      <td>&lt;NA&gt;</td>\n",
              "      <td>&lt;NA&gt;</td>\n",
              "      <td>56</td>\n",
              "      <td>41</td>\n",
              "      <td>...</td>\n",
              "      <td>2.0</td>\n",
              "      <td>34.04</td>\n",
              "      <td>Cash</td>\n",
              "      <td>None</td>\n",
              "      <td>41.792592</td>\n",
              "      <td>-87.769615</td>\n",
              "      <td>POINT (-87.7696154528 41.7925923603)</td>\n",
              "      <td>41.79409</td>\n",
              "      <td>-87.592311</td>\n",
              "      <td>POINT (-87.592310855 41.794090253)</td>\n",
              "    </tr>\n",
              "    <tr>\n",
              "      <th>2998</th>\n",
              "      <td>57bbd5205de987a20e686ef0230577a8daa8313f</td>\n",
              "      <td>fce5ce375d93bcded7c5006c25c5b82414269dd8e1607e...</td>\n",
              "      <td>2013-09-13 14:45:00+00:00</td>\n",
              "      <td>2013-09-13 15:30:00+00:00</td>\n",
              "      <td>2100</td>\n",
              "      <td>9.3</td>\n",
              "      <td>&lt;NA&gt;</td>\n",
              "      <td>&lt;NA&gt;</td>\n",
              "      <td>56</td>\n",
              "      <td>41</td>\n",
              "      <td>...</td>\n",
              "      <td>0.0</td>\n",
              "      <td>23.65</td>\n",
              "      <td>Cash</td>\n",
              "      <td>None</td>\n",
              "      <td>41.792592</td>\n",
              "      <td>-87.769615</td>\n",
              "      <td>POINT (-87.7696154528 41.7925923603)</td>\n",
              "      <td>41.79409</td>\n",
              "      <td>-87.592311</td>\n",
              "      <td>POINT (-87.592310855 41.794090253)</td>\n",
              "    </tr>\n",
              "    <tr>\n",
              "      <th>2999</th>\n",
              "      <td>80b5470d60e2d213c8cf7533b167df81ddb045a8</td>\n",
              "      <td>5991d32be3a1d806824bca30454b07a34beb1a8ae98ae8...</td>\n",
              "      <td>2013-08-05 15:15:00+00:00</td>\n",
              "      <td>2013-08-05 15:45:00+00:00</td>\n",
              "      <td>1620</td>\n",
              "      <td>8.1</td>\n",
              "      <td>&lt;NA&gt;</td>\n",
              "      <td>&lt;NA&gt;</td>\n",
              "      <td>56</td>\n",
              "      <td>41</td>\n",
              "      <td>...</td>\n",
              "      <td>2.0</td>\n",
              "      <td>22.25</td>\n",
              "      <td>Cash</td>\n",
              "      <td>None</td>\n",
              "      <td>41.792592</td>\n",
              "      <td>-87.769615</td>\n",
              "      <td>POINT (-87.7696154528 41.7925923603)</td>\n",
              "      <td>41.79409</td>\n",
              "      <td>-87.592311</td>\n",
              "      <td>POINT (-87.592310855 41.794090253)</td>\n",
              "    </tr>\n",
              "  </tbody>\n",
              "</table>\n",
              "<p>3000 rows × 23 columns</p>\n",
              "</div>\n",
              "    <div class=\"colab-df-buttons\">\n",
              "\n",
              "  <div class=\"colab-df-container\">\n",
              "    <button class=\"colab-df-convert\" onclick=\"convertToInteractive('df-03dc688b-172d-4e32-8127-f681f142e029')\"\n",
              "            title=\"Convert this dataframe to an interactive table.\"\n",
              "            style=\"display:none;\">\n",
              "\n",
              "  <svg xmlns=\"http://www.w3.org/2000/svg\" height=\"24px\" viewBox=\"0 -960 960 960\">\n",
              "    <path d=\"M120-120v-720h720v720H120Zm60-500h600v-160H180v160Zm220 220h160v-160H400v160Zm0 220h160v-160H400v160ZM180-400h160v-160H180v160Zm440 0h160v-160H620v160ZM180-180h160v-160H180v160Zm440 0h160v-160H620v160Z\"/>\n",
              "  </svg>\n",
              "    </button>\n",
              "\n",
              "  <style>\n",
              "    .colab-df-container {\n",
              "      display:flex;\n",
              "      gap: 12px;\n",
              "    }\n",
              "\n",
              "    .colab-df-convert {\n",
              "      background-color: #E8F0FE;\n",
              "      border: none;\n",
              "      border-radius: 50%;\n",
              "      cursor: pointer;\n",
              "      display: none;\n",
              "      fill: #1967D2;\n",
              "      height: 32px;\n",
              "      padding: 0 0 0 0;\n",
              "      width: 32px;\n",
              "    }\n",
              "\n",
              "    .colab-df-convert:hover {\n",
              "      background-color: #E2EBFA;\n",
              "      box-shadow: 0px 1px 2px rgba(60, 64, 67, 0.3), 0px 1px 3px 1px rgba(60, 64, 67, 0.15);\n",
              "      fill: #174EA6;\n",
              "    }\n",
              "\n",
              "    .colab-df-buttons div {\n",
              "      margin-bottom: 4px;\n",
              "    }\n",
              "\n",
              "    [theme=dark] .colab-df-convert {\n",
              "      background-color: #3B4455;\n",
              "      fill: #D2E3FC;\n",
              "    }\n",
              "\n",
              "    [theme=dark] .colab-df-convert:hover {\n",
              "      background-color: #434B5C;\n",
              "      box-shadow: 0px 1px 3px 1px rgba(0, 0, 0, 0.15);\n",
              "      filter: drop-shadow(0px 1px 2px rgba(0, 0, 0, 0.3));\n",
              "      fill: #FFFFFF;\n",
              "    }\n",
              "  </style>\n",
              "\n",
              "    <script>\n",
              "      const buttonEl =\n",
              "        document.querySelector('#df-03dc688b-172d-4e32-8127-f681f142e029 button.colab-df-convert');\n",
              "      buttonEl.style.display =\n",
              "        google.colab.kernel.accessAllowed ? 'block' : 'none';\n",
              "\n",
              "      async function convertToInteractive(key) {\n",
              "        const element = document.querySelector('#df-03dc688b-172d-4e32-8127-f681f142e029');\n",
              "        const dataTable =\n",
              "          await google.colab.kernel.invokeFunction('convertToInteractive',\n",
              "                                                    [key], {});\n",
              "        if (!dataTable) return;\n",
              "\n",
              "        const docLinkHtml = 'Like what you see? Visit the ' +\n",
              "          '<a target=\"_blank\" href=https://colab.research.google.com/notebooks/data_table.ipynb>data table notebook</a>'\n",
              "          + ' to learn more about interactive tables.';\n",
              "        element.innerHTML = '';\n",
              "        dataTable['output_type'] = 'display_data';\n",
              "        await google.colab.output.renderOutput(dataTable, element);\n",
              "        const docLink = document.createElement('div');\n",
              "        docLink.innerHTML = docLinkHtml;\n",
              "        element.appendChild(docLink);\n",
              "      }\n",
              "    </script>\n",
              "  </div>\n",
              "\n",
              "\n",
              "<div id=\"df-74319ca3-3dab-464d-9f15-445f6cf9259d\">\n",
              "  <button class=\"colab-df-quickchart\" onclick=\"quickchart('df-74319ca3-3dab-464d-9f15-445f6cf9259d')\"\n",
              "            title=\"Suggest charts\"\n",
              "            style=\"display:none;\">\n",
              "\n",
              "<svg xmlns=\"http://www.w3.org/2000/svg\" height=\"24px\"viewBox=\"0 0 24 24\"\n",
              "     width=\"24px\">\n",
              "    <g>\n",
              "        <path d=\"M19 3H5c-1.1 0-2 .9-2 2v14c0 1.1.9 2 2 2h14c1.1 0 2-.9 2-2V5c0-1.1-.9-2-2-2zM9 17H7v-7h2v7zm4 0h-2V7h2v10zm4 0h-2v-4h2v4z\"/>\n",
              "    </g>\n",
              "</svg>\n",
              "  </button>\n",
              "\n",
              "<style>\n",
              "  .colab-df-quickchart {\n",
              "      --bg-color: #E8F0FE;\n",
              "      --fill-color: #1967D2;\n",
              "      --hover-bg-color: #E2EBFA;\n",
              "      --hover-fill-color: #174EA6;\n",
              "      --disabled-fill-color: #AAA;\n",
              "      --disabled-bg-color: #DDD;\n",
              "  }\n",
              "\n",
              "  [theme=dark] .colab-df-quickchart {\n",
              "      --bg-color: #3B4455;\n",
              "      --fill-color: #D2E3FC;\n",
              "      --hover-bg-color: #434B5C;\n",
              "      --hover-fill-color: #FFFFFF;\n",
              "      --disabled-bg-color: #3B4455;\n",
              "      --disabled-fill-color: #666;\n",
              "  }\n",
              "\n",
              "  .colab-df-quickchart {\n",
              "    background-color: var(--bg-color);\n",
              "    border: none;\n",
              "    border-radius: 50%;\n",
              "    cursor: pointer;\n",
              "    display: none;\n",
              "    fill: var(--fill-color);\n",
              "    height: 32px;\n",
              "    padding: 0;\n",
              "    width: 32px;\n",
              "  }\n",
              "\n",
              "  .colab-df-quickchart:hover {\n",
              "    background-color: var(--hover-bg-color);\n",
              "    box-shadow: 0 1px 2px rgba(60, 64, 67, 0.3), 0 1px 3px 1px rgba(60, 64, 67, 0.15);\n",
              "    fill: var(--button-hover-fill-color);\n",
              "  }\n",
              "\n",
              "  .colab-df-quickchart-complete:disabled,\n",
              "  .colab-df-quickchart-complete:disabled:hover {\n",
              "    background-color: var(--disabled-bg-color);\n",
              "    fill: var(--disabled-fill-color);\n",
              "    box-shadow: none;\n",
              "  }\n",
              "\n",
              "  .colab-df-spinner {\n",
              "    border: 2px solid var(--fill-color);\n",
              "    border-color: transparent;\n",
              "    border-bottom-color: var(--fill-color);\n",
              "    animation:\n",
              "      spin 1s steps(1) infinite;\n",
              "  }\n",
              "\n",
              "  @keyframes spin {\n",
              "    0% {\n",
              "      border-color: transparent;\n",
              "      border-bottom-color: var(--fill-color);\n",
              "      border-left-color: var(--fill-color);\n",
              "    }\n",
              "    20% {\n",
              "      border-color: transparent;\n",
              "      border-left-color: var(--fill-color);\n",
              "      border-top-color: var(--fill-color);\n",
              "    }\n",
              "    30% {\n",
              "      border-color: transparent;\n",
              "      border-left-color: var(--fill-color);\n",
              "      border-top-color: var(--fill-color);\n",
              "      border-right-color: var(--fill-color);\n",
              "    }\n",
              "    40% {\n",
              "      border-color: transparent;\n",
              "      border-right-color: var(--fill-color);\n",
              "      border-top-color: var(--fill-color);\n",
              "    }\n",
              "    60% {\n",
              "      border-color: transparent;\n",
              "      border-right-color: var(--fill-color);\n",
              "    }\n",
              "    80% {\n",
              "      border-color: transparent;\n",
              "      border-right-color: var(--fill-color);\n",
              "      border-bottom-color: var(--fill-color);\n",
              "    }\n",
              "    90% {\n",
              "      border-color: transparent;\n",
              "      border-bottom-color: var(--fill-color);\n",
              "    }\n",
              "  }\n",
              "</style>\n",
              "\n",
              "  <script>\n",
              "    async function quickchart(key) {\n",
              "      const quickchartButtonEl =\n",
              "        document.querySelector('#' + key + ' button');\n",
              "      quickchartButtonEl.disabled = true;  // To prevent multiple clicks.\n",
              "      quickchartButtonEl.classList.add('colab-df-spinner');\n",
              "      try {\n",
              "        const charts = await google.colab.kernel.invokeFunction(\n",
              "            'suggestCharts', [key], {});\n",
              "      } catch (error) {\n",
              "        console.error('Error during call to suggestCharts:', error);\n",
              "      }\n",
              "      quickchartButtonEl.classList.remove('colab-df-spinner');\n",
              "      quickchartButtonEl.classList.add('colab-df-quickchart-complete');\n",
              "    }\n",
              "    (() => {\n",
              "      let quickchartButtonEl =\n",
              "        document.querySelector('#df-74319ca3-3dab-464d-9f15-445f6cf9259d button');\n",
              "      quickchartButtonEl.style.display =\n",
              "        google.colab.kernel.accessAllowed ? 'block' : 'none';\n",
              "    })();\n",
              "  </script>\n",
              "</div>\n",
              "    </div>\n",
              "  </div>\n"
            ],
            "text/plain": [
              "                                    unique_key  \\\n",
              "0     264842572f7c417a819abc88eb58486e92093544   \n",
              "1     097e39a4e59f97b2f8219f22adc87870dc10e4ca   \n",
              "2     7da56faefa59dbfc714897f74cb4a2da4b7e6d23   \n",
              "3     a0d37ccae04de5ed9b80741c24fea5dd729d6839   \n",
              "4     642a6816f510ee4703e1d2e71d0c38451e866818   \n",
              "...                                        ...   \n",
              "2995  ac8789e7b1fd82b43a1f3e587e08f680fd11d66a   \n",
              "2996  d20d6ad2193cdb56537abb3b85a6b542fd2c042c   \n",
              "2997  a89c28c9d046f07660e54ed0b94dca19e4fda0ea   \n",
              "2998  57bbd5205de987a20e686ef0230577a8daa8313f   \n",
              "2999  80b5470d60e2d213c8cf7533b167df81ddb045a8   \n",
              "\n",
              "                                                taxi_id  \\\n",
              "0     ed238058c7dc5cdd8c0284e8a08127663e304f98bdbfe5...   \n",
              "1     f2a51ce2b77dc0e2bdc3a56c25175872e5ed2d9367cdfe...   \n",
              "2     f2a51ce2b77dc0e2bdc3a56c25175872e5ed2d9367cdfe...   \n",
              "3     efdd945628afebed6c6d7e4d374a04b6206a967e58831c...   \n",
              "4     36c2bd847a85271f4c3e2805a096468a2f4bc1282c9a36...   \n",
              "...                                                 ...   \n",
              "2995  9fe9b90b64c0c87afbb61dc85407a5211118cb8f176c0f...   \n",
              "2996  fce5ce375d93bcded7c5006c25c5b82414269dd8e1607e...   \n",
              "2997  576668e9f2eb87c779550d5aa5efd3a5ea2c837ce1ac6b...   \n",
              "2998  fce5ce375d93bcded7c5006c25c5b82414269dd8e1607e...   \n",
              "2999  5991d32be3a1d806824bca30454b07a34beb1a8ae98ae8...   \n",
              "\n",
              "          trip_start_timestamp        trip_end_timestamp  trip_seconds  \\\n",
              "0    2016-02-22 14:45:00+00:00 2016-02-22 14:45:00+00:00           274   \n",
              "1    2016-03-19 18:00:00+00:00 2016-03-19 18:00:00+00:00           840   \n",
              "2    2016-03-19 18:15:00+00:00 2016-03-19 18:15:00+00:00             3   \n",
              "3    2016-08-19 04:15:00+00:00 2016-08-19 04:45:00+00:00          1320   \n",
              "4    2016-03-23 14:15:00+00:00 2016-03-23 14:15:00+00:00           283   \n",
              "...                        ...                       ...           ...   \n",
              "2995 2013-09-08 17:00:00+00:00 2013-09-08 17:15:00+00:00          1380   \n",
              "2996 2013-09-11 12:30:00+00:00 2013-09-11 13:15:00+00:00          2220   \n",
              "2997 2013-09-07 20:15:00+00:00 2013-09-07 20:45:00+00:00          1740   \n",
              "2998 2013-09-13 14:45:00+00:00 2013-09-13 15:30:00+00:00          2100   \n",
              "2999 2013-08-05 15:15:00+00:00 2013-08-05 15:45:00+00:00          1620   \n",
              "\n",
              "      trip_miles  pickup_census_tract  dropoff_census_tract  \\\n",
              "0            1.3                 <NA>                  <NA>   \n",
              "1            4.6                 <NA>                  <NA>   \n",
              "2            0.0                 <NA>                  <NA>   \n",
              "3           15.1                 <NA>                  <NA>   \n",
              "4            2.2                 <NA>                  <NA>   \n",
              "...          ...                  ...                   ...   \n",
              "2995        13.3                 <NA>                  <NA>   \n",
              "2996         9.3                 <NA>                  <NA>   \n",
              "2997        14.4                 <NA>                  <NA>   \n",
              "2998         9.3                 <NA>                  <NA>   \n",
              "2999         8.1                 <NA>                  <NA>   \n",
              "\n",
              "      pickup_community_area  dropoff_community_area  ...  extras  trip_total  \\\n",
              "0                      <NA>                    <NA>  ...     0.0        5.00   \n",
              "1                      <NA>                    <NA>  ...     1.0       14.00   \n",
              "2                      <NA>                    <NA>  ...     0.0        2.00   \n",
              "3                      <NA>                    <NA>  ...     0.0        8.01   \n",
              "4                      <NA>                    <NA>  ...     0.0        6.60   \n",
              "...                     ...                     ...  ...     ...         ...   \n",
              "2995                     56                      41  ...     5.0       33.85   \n",
              "2996                     56                      41  ...     0.0       25.05   \n",
              "2997                     56                      41  ...     2.0       34.04   \n",
              "2998                     56                      41  ...     0.0       23.65   \n",
              "2999                     56                      41  ...     2.0       22.25   \n",
              "\n",
              "      payment_type   company  pickup_latitude pickup_longitude  \\\n",
              "0             Cash  303 Taxi              NaN              NaN   \n",
              "1             Cash  303 Taxi              NaN              NaN   \n",
              "2             Cash  303 Taxi              NaN              NaN   \n",
              "3      Credit Card  303 Taxi              NaN              NaN   \n",
              "4             Cash  303 Taxi              NaN              NaN   \n",
              "...            ...       ...              ...              ...   \n",
              "2995          Cash      None        41.792592       -87.769615   \n",
              "2996          Cash      None        41.792592       -87.769615   \n",
              "2997          Cash      None        41.792592       -87.769615   \n",
              "2998          Cash      None        41.792592       -87.769615   \n",
              "2999          Cash      None        41.792592       -87.769615   \n",
              "\n",
              "                           pickup_location  dropoff_latitude  \\\n",
              "0                                     None               NaN   \n",
              "1                                     None               NaN   \n",
              "2                                     None               NaN   \n",
              "3                                     None               NaN   \n",
              "4                                     None               NaN   \n",
              "...                                    ...               ...   \n",
              "2995  POINT (-87.7696154528 41.7925923603)          41.79409   \n",
              "2996  POINT (-87.7696154528 41.7925923603)          41.79409   \n",
              "2997  POINT (-87.7696154528 41.7925923603)          41.79409   \n",
              "2998  POINT (-87.7696154528 41.7925923603)          41.79409   \n",
              "2999  POINT (-87.7696154528 41.7925923603)          41.79409   \n",
              "\n",
              "      dropoff_longitude                    dropoff_location  \n",
              "0                   NaN                                None  \n",
              "1                   NaN                                None  \n",
              "2                   NaN                                None  \n",
              "3                   NaN                                None  \n",
              "4                   NaN                                None  \n",
              "...                 ...                                 ...  \n",
              "2995         -87.592311  POINT (-87.592310855 41.794090253)  \n",
              "2996         -87.592311  POINT (-87.592310855 41.794090253)  \n",
              "2997         -87.592311  POINT (-87.592310855 41.794090253)  \n",
              "2998         -87.592311  POINT (-87.592310855 41.794090253)  \n",
              "2999         -87.592311  POINT (-87.592310855 41.794090253)  \n",
              "\n",
              "[3000 rows x 23 columns]"
            ]
          },
          "execution_count": 3,
          "metadata": {},
          "output_type": "execute_result"
        }
      ],
      "source": [
        "#Untuk meloading semua data pada query\n",
        "df = client.query('''\n",
        "SELECT *\n",
        "FROM `bigquery-public-data.chicago_taxi_trips.taxi_trips`limit 3000\n",
        "\n",
        "''').to_dataframe()\n",
        "df"
      ]
    },
    {
      "cell_type": "code",
      "execution_count": null,
      "metadata": {
        "colab": {
          "base_uri": "https://localhost:8080/"
        },
        "id": "hdr2F6wFtu2e",
        "outputId": "b6e9d186-6e90-4809-9844-50e715a9a19e"
      },
      "outputs": [
        {
          "data": {
            "text/plain": [
              "Index(['unique_key', 'taxi_id', 'trip_start_timestamp', 'trip_end_timestamp',\n",
              "       'trip_seconds', 'trip_miles', 'pickup_census_tract',\n",
              "       'dropoff_census_tract', 'pickup_community_area',\n",
              "       'dropoff_community_area', 'fare', 'tips', 'tolls', 'extras',\n",
              "       'trip_total', 'payment_type', 'company', 'pickup_latitude',\n",
              "       'pickup_longitude', 'pickup_location', 'dropoff_latitude',\n",
              "       'dropoff_longitude', 'dropoff_location'],\n",
              "      dtype='object')"
            ]
          },
          "execution_count": 4,
          "metadata": {},
          "output_type": "execute_result"
        }
      ],
      "source": [
        "#Untuk melihat semua kolom pada data\n",
        "df.columns"
      ]
    },
    {
      "cell_type": "code",
      "execution_count": null,
      "metadata": {
        "colab": {
          "base_uri": "https://localhost:8080/"
        },
        "id": "V-fhxtt1t2bq",
        "outputId": "2c933fc0-a0b2-4ab3-b52e-dd127132461f"
      },
      "outputs": [
        {
          "data": {
            "text/plain": [
              "(3000, 23)"
            ]
          },
          "execution_count": 5,
          "metadata": {},
          "output_type": "execute_result"
        }
      ],
      "source": [
        "#Untuk melihat ada berapa baris dan kolom yang ada pada data\n",
        "df.shape"
      ]
    },
    {
      "cell_type": "code",
      "execution_count": null,
      "metadata": {
        "colab": {
          "base_uri": "https://localhost:8080/"
        },
        "id": "V0rqOYK4t4RJ",
        "outputId": "1a8d4171-ae0e-49b6-a36d-54bb7b21334b"
      },
      "outputs": [
        {
          "name": "stdout",
          "output_type": "stream",
          "text": [
            "<class 'pandas.core.frame.DataFrame'>\n",
            "RangeIndex: 3000 entries, 0 to 2999\n",
            "Data columns (total 23 columns):\n",
            " #   Column                  Non-Null Count  Dtype              \n",
            "---  ------                  --------------  -----              \n",
            " 0   unique_key              3000 non-null   object             \n",
            " 1   taxi_id                 3000 non-null   object             \n",
            " 2   trip_start_timestamp    3000 non-null   datetime64[ns, UTC]\n",
            " 3   trip_end_timestamp      3000 non-null   datetime64[ns, UTC]\n",
            " 4   trip_seconds            3000 non-null   Int64              \n",
            " 5   trip_miles              3000 non-null   float64            \n",
            " 6   pickup_census_tract     333 non-null    Int64              \n",
            " 7   dropoff_census_tract    109 non-null    Int64              \n",
            " 8   pickup_community_area   1722 non-null   Int64              \n",
            " 9   dropoff_community_area  453 non-null    Int64              \n",
            " 10  fare                    3000 non-null   float64            \n",
            " 11  tips                    3000 non-null   float64            \n",
            " 12  tolls                   1797 non-null   float64            \n",
            " 13  extras                  3000 non-null   float64            \n",
            " 14  trip_total              3000 non-null   float64            \n",
            " 15  payment_type            3000 non-null   object             \n",
            " 16  company                 1208 non-null   object             \n",
            " 17  pickup_latitude         1722 non-null   float64            \n",
            " 18  pickup_longitude        1722 non-null   float64            \n",
            " 19  pickup_location         1722 non-null   object             \n",
            " 20  dropoff_latitude        453 non-null    float64            \n",
            " 21  dropoff_longitude       453 non-null    float64            \n",
            " 22  dropoff_location        453 non-null    object             \n",
            "dtypes: Int64(5), datetime64[ns, UTC](2), float64(10), object(6)\n",
            "memory usage: 553.8+ KB\n"
          ]
        }
      ],
      "source": [
        "#Untuk meilhat semua tipe data dan missing value\n",
        "df.info()"
      ]
    },
    {
      "cell_type": "markdown",
      "metadata": {
        "id": "X0Ju3YNauLob"
      },
      "source": [
        "Dikarenakan kita hanya disuruh satu kolom saja yaitu kolom trip_seconds maka kita akan berfokus hanya pada kolom tersebut"
      ]
    },
    {
      "cell_type": "code",
      "execution_count": null,
      "metadata": {
        "id": "LIKB_n0euV3X"
      },
      "outputs": [],
      "source": [
        "#Beberapa tools yang mungkin bisa digunakan harus dipastikan terimport seperti dibawah ini\n",
        "import time\n",
        "import csv\n",
        "import pandas as pd\n",
        "import numpy as np\n",
        "from scipy import stats\n",
        "from scipy.stats import norm\n",
        "import matplotlib.pyplot as plt\n",
        "import seaborn as sns"
      ]
    },
    {
      "cell_type": "code",
      "execution_count": null,
      "metadata": {
        "colab": {
          "base_uri": "https://localhost:8080/",
          "height": 423
        },
        "id": "Pj9Wki9BtXId",
        "outputId": "61d41a18-700d-4b64-f4de-aa81157b7017"
      },
      "outputs": [
        {
          "data": {
            "text/html": [
              "\n",
              "  <div id=\"df-7d68d246-8a4c-4518-b00d-92e9383a0164\" class=\"colab-df-container\">\n",
              "    <div>\n",
              "<style scoped>\n",
              "    .dataframe tbody tr th:only-of-type {\n",
              "        vertical-align: middle;\n",
              "    }\n",
              "\n",
              "    .dataframe tbody tr th {\n",
              "        vertical-align: top;\n",
              "    }\n",
              "\n",
              "    .dataframe thead th {\n",
              "        text-align: right;\n",
              "    }\n",
              "</style>\n",
              "<table border=\"1\" class=\"dataframe\">\n",
              "  <thead>\n",
              "    <tr style=\"text-align: right;\">\n",
              "      <th></th>\n",
              "      <th>trip_seconds</th>\n",
              "    </tr>\n",
              "  </thead>\n",
              "  <tbody>\n",
              "    <tr>\n",
              "      <th>0</th>\n",
              "      <td>274</td>\n",
              "    </tr>\n",
              "    <tr>\n",
              "      <th>1</th>\n",
              "      <td>840</td>\n",
              "    </tr>\n",
              "    <tr>\n",
              "      <th>2</th>\n",
              "      <td>3</td>\n",
              "    </tr>\n",
              "    <tr>\n",
              "      <th>3</th>\n",
              "      <td>1320</td>\n",
              "    </tr>\n",
              "    <tr>\n",
              "      <th>4</th>\n",
              "      <td>283</td>\n",
              "    </tr>\n",
              "    <tr>\n",
              "      <th>...</th>\n",
              "      <td>...</td>\n",
              "    </tr>\n",
              "    <tr>\n",
              "      <th>2995</th>\n",
              "      <td>1380</td>\n",
              "    </tr>\n",
              "    <tr>\n",
              "      <th>2996</th>\n",
              "      <td>2220</td>\n",
              "    </tr>\n",
              "    <tr>\n",
              "      <th>2997</th>\n",
              "      <td>1740</td>\n",
              "    </tr>\n",
              "    <tr>\n",
              "      <th>2998</th>\n",
              "      <td>2100</td>\n",
              "    </tr>\n",
              "    <tr>\n",
              "      <th>2999</th>\n",
              "      <td>1620</td>\n",
              "    </tr>\n",
              "  </tbody>\n",
              "</table>\n",
              "<p>3000 rows × 1 columns</p>\n",
              "</div>\n",
              "    <div class=\"colab-df-buttons\">\n",
              "\n",
              "  <div class=\"colab-df-container\">\n",
              "    <button class=\"colab-df-convert\" onclick=\"convertToInteractive('df-7d68d246-8a4c-4518-b00d-92e9383a0164')\"\n",
              "            title=\"Convert this dataframe to an interactive table.\"\n",
              "            style=\"display:none;\">\n",
              "\n",
              "  <svg xmlns=\"http://www.w3.org/2000/svg\" height=\"24px\" viewBox=\"0 -960 960 960\">\n",
              "    <path d=\"M120-120v-720h720v720H120Zm60-500h600v-160H180v160Zm220 220h160v-160H400v160Zm0 220h160v-160H400v160ZM180-400h160v-160H180v160Zm440 0h160v-160H620v160ZM180-180h160v-160H180v160Zm440 0h160v-160H620v160Z\"/>\n",
              "  </svg>\n",
              "    </button>\n",
              "\n",
              "  <style>\n",
              "    .colab-df-container {\n",
              "      display:flex;\n",
              "      gap: 12px;\n",
              "    }\n",
              "\n",
              "    .colab-df-convert {\n",
              "      background-color: #E8F0FE;\n",
              "      border: none;\n",
              "      border-radius: 50%;\n",
              "      cursor: pointer;\n",
              "      display: none;\n",
              "      fill: #1967D2;\n",
              "      height: 32px;\n",
              "      padding: 0 0 0 0;\n",
              "      width: 32px;\n",
              "    }\n",
              "\n",
              "    .colab-df-convert:hover {\n",
              "      background-color: #E2EBFA;\n",
              "      box-shadow: 0px 1px 2px rgba(60, 64, 67, 0.3), 0px 1px 3px 1px rgba(60, 64, 67, 0.15);\n",
              "      fill: #174EA6;\n",
              "    }\n",
              "\n",
              "    .colab-df-buttons div {\n",
              "      margin-bottom: 4px;\n",
              "    }\n",
              "\n",
              "    [theme=dark] .colab-df-convert {\n",
              "      background-color: #3B4455;\n",
              "      fill: #D2E3FC;\n",
              "    }\n",
              "\n",
              "    [theme=dark] .colab-df-convert:hover {\n",
              "      background-color: #434B5C;\n",
              "      box-shadow: 0px 1px 3px 1px rgba(0, 0, 0, 0.15);\n",
              "      filter: drop-shadow(0px 1px 2px rgba(0, 0, 0, 0.3));\n",
              "      fill: #FFFFFF;\n",
              "    }\n",
              "  </style>\n",
              "\n",
              "    <script>\n",
              "      const buttonEl =\n",
              "        document.querySelector('#df-7d68d246-8a4c-4518-b00d-92e9383a0164 button.colab-df-convert');\n",
              "      buttonEl.style.display =\n",
              "        google.colab.kernel.accessAllowed ? 'block' : 'none';\n",
              "\n",
              "      async function convertToInteractive(key) {\n",
              "        const element = document.querySelector('#df-7d68d246-8a4c-4518-b00d-92e9383a0164');\n",
              "        const dataTable =\n",
              "          await google.colab.kernel.invokeFunction('convertToInteractive',\n",
              "                                                    [key], {});\n",
              "        if (!dataTable) return;\n",
              "\n",
              "        const docLinkHtml = 'Like what you see? Visit the ' +\n",
              "          '<a target=\"_blank\" href=https://colab.research.google.com/notebooks/data_table.ipynb>data table notebook</a>'\n",
              "          + ' to learn more about interactive tables.';\n",
              "        element.innerHTML = '';\n",
              "        dataTable['output_type'] = 'display_data';\n",
              "        await google.colab.output.renderOutput(dataTable, element);\n",
              "        const docLink = document.createElement('div');\n",
              "        docLink.innerHTML = docLinkHtml;\n",
              "        element.appendChild(docLink);\n",
              "      }\n",
              "    </script>\n",
              "  </div>\n",
              "\n",
              "\n",
              "<div id=\"df-c521a068-4a81-419e-9fe1-c29dbf09cd81\">\n",
              "  <button class=\"colab-df-quickchart\" onclick=\"quickchart('df-c521a068-4a81-419e-9fe1-c29dbf09cd81')\"\n",
              "            title=\"Suggest charts\"\n",
              "            style=\"display:none;\">\n",
              "\n",
              "<svg xmlns=\"http://www.w3.org/2000/svg\" height=\"24px\"viewBox=\"0 0 24 24\"\n",
              "     width=\"24px\">\n",
              "    <g>\n",
              "        <path d=\"M19 3H5c-1.1 0-2 .9-2 2v14c0 1.1.9 2 2 2h14c1.1 0 2-.9 2-2V5c0-1.1-.9-2-2-2zM9 17H7v-7h2v7zm4 0h-2V7h2v10zm4 0h-2v-4h2v4z\"/>\n",
              "    </g>\n",
              "</svg>\n",
              "  </button>\n",
              "\n",
              "<style>\n",
              "  .colab-df-quickchart {\n",
              "      --bg-color: #E8F0FE;\n",
              "      --fill-color: #1967D2;\n",
              "      --hover-bg-color: #E2EBFA;\n",
              "      --hover-fill-color: #174EA6;\n",
              "      --disabled-fill-color: #AAA;\n",
              "      --disabled-bg-color: #DDD;\n",
              "  }\n",
              "\n",
              "  [theme=dark] .colab-df-quickchart {\n",
              "      --bg-color: #3B4455;\n",
              "      --fill-color: #D2E3FC;\n",
              "      --hover-bg-color: #434B5C;\n",
              "      --hover-fill-color: #FFFFFF;\n",
              "      --disabled-bg-color: #3B4455;\n",
              "      --disabled-fill-color: #666;\n",
              "  }\n",
              "\n",
              "  .colab-df-quickchart {\n",
              "    background-color: var(--bg-color);\n",
              "    border: none;\n",
              "    border-radius: 50%;\n",
              "    cursor: pointer;\n",
              "    display: none;\n",
              "    fill: var(--fill-color);\n",
              "    height: 32px;\n",
              "    padding: 0;\n",
              "    width: 32px;\n",
              "  }\n",
              "\n",
              "  .colab-df-quickchart:hover {\n",
              "    background-color: var(--hover-bg-color);\n",
              "    box-shadow: 0 1px 2px rgba(60, 64, 67, 0.3), 0 1px 3px 1px rgba(60, 64, 67, 0.15);\n",
              "    fill: var(--button-hover-fill-color);\n",
              "  }\n",
              "\n",
              "  .colab-df-quickchart-complete:disabled,\n",
              "  .colab-df-quickchart-complete:disabled:hover {\n",
              "    background-color: var(--disabled-bg-color);\n",
              "    fill: var(--disabled-fill-color);\n",
              "    box-shadow: none;\n",
              "  }\n",
              "\n",
              "  .colab-df-spinner {\n",
              "    border: 2px solid var(--fill-color);\n",
              "    border-color: transparent;\n",
              "    border-bottom-color: var(--fill-color);\n",
              "    animation:\n",
              "      spin 1s steps(1) infinite;\n",
              "  }\n",
              "\n",
              "  @keyframes spin {\n",
              "    0% {\n",
              "      border-color: transparent;\n",
              "      border-bottom-color: var(--fill-color);\n",
              "      border-left-color: var(--fill-color);\n",
              "    }\n",
              "    20% {\n",
              "      border-color: transparent;\n",
              "      border-left-color: var(--fill-color);\n",
              "      border-top-color: var(--fill-color);\n",
              "    }\n",
              "    30% {\n",
              "      border-color: transparent;\n",
              "      border-left-color: var(--fill-color);\n",
              "      border-top-color: var(--fill-color);\n",
              "      border-right-color: var(--fill-color);\n",
              "    }\n",
              "    40% {\n",
              "      border-color: transparent;\n",
              "      border-right-color: var(--fill-color);\n",
              "      border-top-color: var(--fill-color);\n",
              "    }\n",
              "    60% {\n",
              "      border-color: transparent;\n",
              "      border-right-color: var(--fill-color);\n",
              "    }\n",
              "    80% {\n",
              "      border-color: transparent;\n",
              "      border-right-color: var(--fill-color);\n",
              "      border-bottom-color: var(--fill-color);\n",
              "    }\n",
              "    90% {\n",
              "      border-color: transparent;\n",
              "      border-bottom-color: var(--fill-color);\n",
              "    }\n",
              "  }\n",
              "</style>\n",
              "\n",
              "  <script>\n",
              "    async function quickchart(key) {\n",
              "      const quickchartButtonEl =\n",
              "        document.querySelector('#' + key + ' button');\n",
              "      quickchartButtonEl.disabled = true;  // To prevent multiple clicks.\n",
              "      quickchartButtonEl.classList.add('colab-df-spinner');\n",
              "      try {\n",
              "        const charts = await google.colab.kernel.invokeFunction(\n",
              "            'suggestCharts', [key], {});\n",
              "      } catch (error) {\n",
              "        console.error('Error during call to suggestCharts:', error);\n",
              "      }\n",
              "      quickchartButtonEl.classList.remove('colab-df-spinner');\n",
              "      quickchartButtonEl.classList.add('colab-df-quickchart-complete');\n",
              "    }\n",
              "    (() => {\n",
              "      let quickchartButtonEl =\n",
              "        document.querySelector('#df-c521a068-4a81-419e-9fe1-c29dbf09cd81 button');\n",
              "      quickchartButtonEl.style.display =\n",
              "        google.colab.kernel.accessAllowed ? 'block' : 'none';\n",
              "    })();\n",
              "  </script>\n",
              "</div>\n",
              "    </div>\n",
              "  </div>\n"
            ],
            "text/plain": [
              "      trip_seconds\n",
              "0              274\n",
              "1              840\n",
              "2                3\n",
              "3             1320\n",
              "4              283\n",
              "...            ...\n",
              "2995          1380\n",
              "2996          2220\n",
              "2997          1740\n",
              "2998          2100\n",
              "2999          1620\n",
              "\n",
              "[3000 rows x 1 columns]"
            ]
          },
          "execution_count": 8,
          "metadata": {},
          "output_type": "execute_result"
        }
      ],
      "source": [
        "#untuk mengambil hanya data pada kolom trip_seconds\n",
        "df = client.query('''\n",
        "SELECT trip_seconds\n",
        "FROM `bigquery-public-data.chicago_taxi_trips.taxi_trips`limit 3000\n",
        "\n",
        "''').to_dataframe()\n",
        "df"
      ]
    },
    {
      "cell_type": "markdown",
      "metadata": {
        "id": "Sl2GECu2urb7"
      },
      "source": [
        "## Analisis Anomali"
      ]
    },
    {
      "cell_type": "markdown",
      "metadata": {
        "id": "ZMF1rx12uv03"
      },
      "source": [
        "Kamu diminta untuk menganalisis data penyewaan rumah. Namun, kamu sadar bahwa sepertinya ada data anomali yang harus dikeluarkan.\n",
        "\n",
        "Untuk mengetahui adanya anomali, kamu bisa menggunakan metode extreme value analysis. Untuk melakukan pengecekan anomali/outlier, lakukan langkah-langkah di bawah ini:\n",
        "\n",
        "1. Lakukan perhitungan central tendency (mean, median, modus) terhadap data sebelum dideteksi adanya anomali.\n",
        "\n",
        "2. Cek skewness data untuk mengetahui apakah data terdistribusi normal atau tidak.\n",
        "\n",
        "3. Lakukan pengolahan data dengan menggunakan extreme value analysis.\n",
        "\n",
        "4. Buat variabel baru yang menyimpan data yang sudah dibuang data anomalinya.\n",
        "5. Simpan data yang sudah dibuang anomalinya ke file csv dengan nama file <nama-student>.csv."
      ]
    },
    {
      "cell_type": "markdown",
      "metadata": {
        "id": "6m6TwurJxryI"
      },
      "source": [
        "1. Menghitung mean,median,dan modus."
      ]
    },
    {
      "cell_type": "code",
      "execution_count": null,
      "metadata": {
        "colab": {
          "base_uri": "https://localhost:8080/"
        },
        "id": "j0mPsElMvAaI",
        "outputId": "8bf7211a-5fad-4640-8d67-6b162a47d838"
      },
      "outputs": [
        {
          "name": "stdout",
          "output_type": "stream",
          "text": [
            "Mean trip_seconds: 1148.1666666666667\n",
            "Median trip_seconds: 960.0\n",
            "Modus trip_seconds: 1\n"
          ]
        }
      ],
      "source": [
        "#Untuk menghitung mean median dan modus hanya pada kolom trip_seconds\n",
        "df = client.query('''\n",
        "SELECT trip_seconds\n",
        "FROM `bigquery-public-data.chicago_taxi_trips.taxi_trips`limit 3000\n",
        "\n",
        "''').to_dataframe()\n",
        "df\n",
        "print('Mean trip_seconds:',df['trip_seconds'].mean())\n",
        "print('Median trip_seconds:',df['trip_seconds'].median())\n",
        "print('Modus trip_seconds:',df['trip_seconds'].mode().values[0])\n",
        "\n"
      ]
    },
    {
      "cell_type": "code",
      "execution_count": null,
      "metadata": {
        "colab": {
          "base_uri": "https://localhost:8080/"
        },
        "id": "XkRXkiAEEUR7",
        "outputId": "55db48e2-37e1-4789-9cd3-4586d590d73f"
      },
      "outputs": [
        {
          "name": "stdout",
          "output_type": "stream",
          "text": [
            "Q1: 436.0\n",
            "Q2: 960.0\n",
            "Q3: 1620.0\n",
            "Interquartile Range (IQR): 1184.0\n"
          ]
        }
      ],
      "source": [
        "#Untuk menghitung kuantile yang kaitannya akan digunakan untuk menghilangkan missing value\n",
        "q1 = df['trip_seconds'].quantile(0.25)\n",
        "q2 = df['trip_seconds'].quantile(0.5)\n",
        "q3 = df['trip_seconds'].quantile(0.75)\n",
        "\n",
        "iqr = q3 - q1\n",
        "print('Q1:',q1)\n",
        "print('Q2:',q2)\n",
        "print('Q3:',q3)\n",
        "print('Interquartile Range (IQR):',iqr)"
      ]
    },
    {
      "cell_type": "markdown",
      "metadata": {
        "id": "otjgVjt125QI"
      },
      "source": [
        "2. Menghitung skewness dan kurtosis data untuk mengetahui apakah data terdistribusi normal atau tidak.\n",
        "\n"
      ]
    },
    {
      "cell_type": "code",
      "execution_count": null,
      "metadata": {
        "id": "Vd6Z09yT0cct"
      },
      "outputs": [],
      "source": [
        "col= ['trip_seconds']"
      ]
    },
    {
      "cell_type": "code",
      "execution_count": null,
      "metadata": {
        "colab": {
          "base_uri": "https://localhost:8080/"
        },
        "id": "uxf-_iH1xmFu",
        "outputId": "af4a868d-89bb-4b5b-e8c0-f3f148149c8d"
      },
      "outputs": [
        {
          "name": "stdout",
          "output_type": "stream",
          "text": [
            "Skewness: 12.10183789772813\n",
            "Kurtosis: 283.8004711388201\n",
            "Standard Deviation: 1303.5950785929908\n"
          ]
        }
      ],
      "source": [
        "# Untuk menghitung Skewness,kurtosis, dan Standard Deviation\n",
        "df = client.query('''\n",
        "SELECT trip_seconds\n",
        "FROM `bigquery-public-data.chicago_taxi_trips.taxi_trips`limit 3000\n",
        "\n",
        "''').to_dataframe()\n",
        "df\n",
        "print('Skewness:',df['trip_seconds'].skew())\n",
        "print('Kurtosis:',df['trip_seconds'].kurtosis())\n",
        "print('Standard Deviation:',df['trip_seconds'].std())\n"
      ]
    },
    {
      "cell_type": "markdown",
      "metadata": {
        "id": "Ymx13BE-yXMX"
      },
      "source": [
        "Karena data skew yang kita dapat dari tabel trip_seconds adalah 12.10183789772813 dapat dikategorikan bahwa data pada kolom trip_seconds memiliki distribusi data Highly Skewed untuk kurtosisnya adalah tipe leptocurtic artinya adaalah memiliki ekor yang lebih berat dibandingkan distribusi normal tetapi itu membuat data mungkin tidak normal sehingga mari kita cek sekali lagi mean dan median nya pasti akan cenderung memiliki distribusi yang normal"
      ]
    },
    {
      "cell_type": "code",
      "execution_count": null,
      "metadata": {
        "colab": {
          "base_uri": "https://localhost:8080/"
        },
        "id": "G1Aa8U7N2H3W",
        "outputId": "a198d7d2-81ef-4907-a139-11126309338a"
      },
      "outputs": [
        {
          "name": "stdout",
          "output_type": "stream",
          "text": [
            "Mean trip_seconds: 1148.1666666666667\n",
            "Median trip_seconds: 960.0\n"
          ]
        }
      ],
      "source": [
        "print('Mean trip_seconds:',df['trip_seconds'].mean())\n",
        "print('Median trip_seconds:',df['trip_seconds'].median())"
      ]
    },
    {
      "cell_type": "markdown",
      "metadata": {
        "id": "htXqF9YP3DEV"
      },
      "source": [
        "3. Lakukan pengolahan data dengan menggunakan extreme value analysis untuk mmembuktikan apakah data memiliki distribusi yang normal dengan tes kedua ini mari kita lihat\n",
        "4. membersihkan outlier"
      ]
    },
    {
      "cell_type": "code",
      "execution_count": null,
      "metadata": {
        "colab": {
          "base_uri": "https://localhost:8080/",
          "height": 206
        },
        "id": "nIrAm1bTALdv",
        "outputId": "5610340e-bd1c-4c53-8d6b-6c61aeac76ec"
      },
      "outputs": [
        {
          "data": {
            "text/html": [
              "\n",
              "  <div id=\"df-085805bb-e9ab-45b3-8581-7a3898609668\" class=\"colab-df-container\">\n",
              "    <div>\n",
              "<style scoped>\n",
              "    .dataframe tbody tr th:only-of-type {\n",
              "        vertical-align: middle;\n",
              "    }\n",
              "\n",
              "    .dataframe tbody tr th {\n",
              "        vertical-align: top;\n",
              "    }\n",
              "\n",
              "    .dataframe thead th {\n",
              "        text-align: right;\n",
              "    }\n",
              "</style>\n",
              "<table border=\"1\" class=\"dataframe\">\n",
              "  <thead>\n",
              "    <tr style=\"text-align: right;\">\n",
              "      <th></th>\n",
              "      <th>trip_seconds</th>\n",
              "    </tr>\n",
              "  </thead>\n",
              "  <tbody>\n",
              "    <tr>\n",
              "      <th>0</th>\n",
              "      <td>274</td>\n",
              "    </tr>\n",
              "    <tr>\n",
              "      <th>1</th>\n",
              "      <td>840</td>\n",
              "    </tr>\n",
              "    <tr>\n",
              "      <th>2</th>\n",
              "      <td>3</td>\n",
              "    </tr>\n",
              "    <tr>\n",
              "      <th>3</th>\n",
              "      <td>1320</td>\n",
              "    </tr>\n",
              "    <tr>\n",
              "      <th>4</th>\n",
              "      <td>283</td>\n",
              "    </tr>\n",
              "  </tbody>\n",
              "</table>\n",
              "</div>\n",
              "    <div class=\"colab-df-buttons\">\n",
              "\n",
              "  <div class=\"colab-df-container\">\n",
              "    <button class=\"colab-df-convert\" onclick=\"convertToInteractive('df-085805bb-e9ab-45b3-8581-7a3898609668')\"\n",
              "            title=\"Convert this dataframe to an interactive table.\"\n",
              "            style=\"display:none;\">\n",
              "\n",
              "  <svg xmlns=\"http://www.w3.org/2000/svg\" height=\"24px\" viewBox=\"0 -960 960 960\">\n",
              "    <path d=\"M120-120v-720h720v720H120Zm60-500h600v-160H180v160Zm220 220h160v-160H400v160Zm0 220h160v-160H400v160ZM180-400h160v-160H180v160Zm440 0h160v-160H620v160ZM180-180h160v-160H180v160Zm440 0h160v-160H620v160Z\"/>\n",
              "  </svg>\n",
              "    </button>\n",
              "\n",
              "  <style>\n",
              "    .colab-df-container {\n",
              "      display:flex;\n",
              "      gap: 12px;\n",
              "    }\n",
              "\n",
              "    .colab-df-convert {\n",
              "      background-color: #E8F0FE;\n",
              "      border: none;\n",
              "      border-radius: 50%;\n",
              "      cursor: pointer;\n",
              "      display: none;\n",
              "      fill: #1967D2;\n",
              "      height: 32px;\n",
              "      padding: 0 0 0 0;\n",
              "      width: 32px;\n",
              "    }\n",
              "\n",
              "    .colab-df-convert:hover {\n",
              "      background-color: #E2EBFA;\n",
              "      box-shadow: 0px 1px 2px rgba(60, 64, 67, 0.3), 0px 1px 3px 1px rgba(60, 64, 67, 0.15);\n",
              "      fill: #174EA6;\n",
              "    }\n",
              "\n",
              "    .colab-df-buttons div {\n",
              "      margin-bottom: 4px;\n",
              "    }\n",
              "\n",
              "    [theme=dark] .colab-df-convert {\n",
              "      background-color: #3B4455;\n",
              "      fill: #D2E3FC;\n",
              "    }\n",
              "\n",
              "    [theme=dark] .colab-df-convert:hover {\n",
              "      background-color: #434B5C;\n",
              "      box-shadow: 0px 1px 3px 1px rgba(0, 0, 0, 0.15);\n",
              "      filter: drop-shadow(0px 1px 2px rgba(0, 0, 0, 0.3));\n",
              "      fill: #FFFFFF;\n",
              "    }\n",
              "  </style>\n",
              "\n",
              "    <script>\n",
              "      const buttonEl =\n",
              "        document.querySelector('#df-085805bb-e9ab-45b3-8581-7a3898609668 button.colab-df-convert');\n",
              "      buttonEl.style.display =\n",
              "        google.colab.kernel.accessAllowed ? 'block' : 'none';\n",
              "\n",
              "      async function convertToInteractive(key) {\n",
              "        const element = document.querySelector('#df-085805bb-e9ab-45b3-8581-7a3898609668');\n",
              "        const dataTable =\n",
              "          await google.colab.kernel.invokeFunction('convertToInteractive',\n",
              "                                                    [key], {});\n",
              "        if (!dataTable) return;\n",
              "\n",
              "        const docLinkHtml = 'Like what you see? Visit the ' +\n",
              "          '<a target=\"_blank\" href=https://colab.research.google.com/notebooks/data_table.ipynb>data table notebook</a>'\n",
              "          + ' to learn more about interactive tables.';\n",
              "        element.innerHTML = '';\n",
              "        dataTable['output_type'] = 'display_data';\n",
              "        await google.colab.output.renderOutput(dataTable, element);\n",
              "        const docLink = document.createElement('div');\n",
              "        docLink.innerHTML = docLinkHtml;\n",
              "        element.appendChild(docLink);\n",
              "      }\n",
              "    </script>\n",
              "  </div>\n",
              "\n",
              "\n",
              "<div id=\"df-c2ca81ac-0727-4e30-b048-1180127ddc72\">\n",
              "  <button class=\"colab-df-quickchart\" onclick=\"quickchart('df-c2ca81ac-0727-4e30-b048-1180127ddc72')\"\n",
              "            title=\"Suggest charts\"\n",
              "            style=\"display:none;\">\n",
              "\n",
              "<svg xmlns=\"http://www.w3.org/2000/svg\" height=\"24px\"viewBox=\"0 0 24 24\"\n",
              "     width=\"24px\">\n",
              "    <g>\n",
              "        <path d=\"M19 3H5c-1.1 0-2 .9-2 2v14c0 1.1.9 2 2 2h14c1.1 0 2-.9 2-2V5c0-1.1-.9-2-2-2zM9 17H7v-7h2v7zm4 0h-2V7h2v10zm4 0h-2v-4h2v4z\"/>\n",
              "    </g>\n",
              "</svg>\n",
              "  </button>\n",
              "\n",
              "<style>\n",
              "  .colab-df-quickchart {\n",
              "      --bg-color: #E8F0FE;\n",
              "      --fill-color: #1967D2;\n",
              "      --hover-bg-color: #E2EBFA;\n",
              "      --hover-fill-color: #174EA6;\n",
              "      --disabled-fill-color: #AAA;\n",
              "      --disabled-bg-color: #DDD;\n",
              "  }\n",
              "\n",
              "  [theme=dark] .colab-df-quickchart {\n",
              "      --bg-color: #3B4455;\n",
              "      --fill-color: #D2E3FC;\n",
              "      --hover-bg-color: #434B5C;\n",
              "      --hover-fill-color: #FFFFFF;\n",
              "      --disabled-bg-color: #3B4455;\n",
              "      --disabled-fill-color: #666;\n",
              "  }\n",
              "\n",
              "  .colab-df-quickchart {\n",
              "    background-color: var(--bg-color);\n",
              "    border: none;\n",
              "    border-radius: 50%;\n",
              "    cursor: pointer;\n",
              "    display: none;\n",
              "    fill: var(--fill-color);\n",
              "    height: 32px;\n",
              "    padding: 0;\n",
              "    width: 32px;\n",
              "  }\n",
              "\n",
              "  .colab-df-quickchart:hover {\n",
              "    background-color: var(--hover-bg-color);\n",
              "    box-shadow: 0 1px 2px rgba(60, 64, 67, 0.3), 0 1px 3px 1px rgba(60, 64, 67, 0.15);\n",
              "    fill: var(--button-hover-fill-color);\n",
              "  }\n",
              "\n",
              "  .colab-df-quickchart-complete:disabled,\n",
              "  .colab-df-quickchart-complete:disabled:hover {\n",
              "    background-color: var(--disabled-bg-color);\n",
              "    fill: var(--disabled-fill-color);\n",
              "    box-shadow: none;\n",
              "  }\n",
              "\n",
              "  .colab-df-spinner {\n",
              "    border: 2px solid var(--fill-color);\n",
              "    border-color: transparent;\n",
              "    border-bottom-color: var(--fill-color);\n",
              "    animation:\n",
              "      spin 1s steps(1) infinite;\n",
              "  }\n",
              "\n",
              "  @keyframes spin {\n",
              "    0% {\n",
              "      border-color: transparent;\n",
              "      border-bottom-color: var(--fill-color);\n",
              "      border-left-color: var(--fill-color);\n",
              "    }\n",
              "    20% {\n",
              "      border-color: transparent;\n",
              "      border-left-color: var(--fill-color);\n",
              "      border-top-color: var(--fill-color);\n",
              "    }\n",
              "    30% {\n",
              "      border-color: transparent;\n",
              "      border-left-color: var(--fill-color);\n",
              "      border-top-color: var(--fill-color);\n",
              "      border-right-color: var(--fill-color);\n",
              "    }\n",
              "    40% {\n",
              "      border-color: transparent;\n",
              "      border-right-color: var(--fill-color);\n",
              "      border-top-color: var(--fill-color);\n",
              "    }\n",
              "    60% {\n",
              "      border-color: transparent;\n",
              "      border-right-color: var(--fill-color);\n",
              "    }\n",
              "    80% {\n",
              "      border-color: transparent;\n",
              "      border-right-color: var(--fill-color);\n",
              "      border-bottom-color: var(--fill-color);\n",
              "    }\n",
              "    90% {\n",
              "      border-color: transparent;\n",
              "      border-bottom-color: var(--fill-color);\n",
              "    }\n",
              "  }\n",
              "</style>\n",
              "\n",
              "  <script>\n",
              "    async function quickchart(key) {\n",
              "      const quickchartButtonEl =\n",
              "        document.querySelector('#' + key + ' button');\n",
              "      quickchartButtonEl.disabled = true;  // To prevent multiple clicks.\n",
              "      quickchartButtonEl.classList.add('colab-df-spinner');\n",
              "      try {\n",
              "        const charts = await google.colab.kernel.invokeFunction(\n",
              "            'suggestCharts', [key], {});\n",
              "      } catch (error) {\n",
              "        console.error('Error during call to suggestCharts:', error);\n",
              "      }\n",
              "      quickchartButtonEl.classList.remove('colab-df-spinner');\n",
              "      quickchartButtonEl.classList.add('colab-df-quickchart-complete');\n",
              "    }\n",
              "    (() => {\n",
              "      let quickchartButtonEl =\n",
              "        document.querySelector('#df-c2ca81ac-0727-4e30-b048-1180127ddc72 button');\n",
              "      quickchartButtonEl.style.display =\n",
              "        google.colab.kernel.accessAllowed ? 'block' : 'none';\n",
              "    })();\n",
              "  </script>\n",
              "</div>\n",
              "    </div>\n",
              "  </div>\n"
            ],
            "text/plain": [
              "   trip_seconds\n",
              "0           274\n",
              "1           840\n",
              "2             3\n",
              "3          1320\n",
              "4           283"
            ]
          },
          "execution_count": 20,
          "metadata": {},
          "output_type": "execute_result"
        }
      ],
      "source": [
        "df.trip_seconds.value_counts()\n",
        "df.head()"
      ]
    },
    {
      "cell_type": "code",
      "execution_count": null,
      "metadata": {
        "colab": {
          "base_uri": "https://localhost:8080/",
          "height": 385
        },
        "id": "JoOw1SUe3Jzb",
        "outputId": "a4fbfeb7-e78b-4e5d-be40-38aafbd2752b"
      },
      "outputs": [
        {
          "data": {
            "text/plain": [
              "<Axes: >"
            ]
          },
          "execution_count": 28,
          "metadata": {},
          "output_type": "execute_result"
        },
        {
          "data": {
            "image/png": "[encoded data removed]",
            "text/plain": [
              "<Figure size 1000x400 with 2 Axes>"
            ]
          },
          "metadata": {},
          "output_type": "display_data"
        }
      ],
      "source": [
        "# Untuk menampilkan plot menggunakan analisis distribusi extream values untuk melihat atau mendeteksi outliers\n",
        "fig, ax = plt.subplots(ncols=2,figsize=(10,4))\n",
        "\n",
        "df['trip_seconds'].plot(kind='hist',bins=20,ax=ax[0])\n",
        "df['trip_seconds'].plot(kind='box',ax=ax[1])"
      ]
    },
    {
      "cell_type": "markdown",
      "metadata": {
        "id": "Qpmd0_EdCvWX"
      },
      "source": [
        "outliers masih terlihat"
      ]
    },
    {
      "cell_type": "code",
      "execution_count": null,
      "metadata": {
        "colab": {
          "base_uri": "https://localhost:8080/"
        },
        "id": "qraUkRB27wXx",
        "outputId": "80e8f186-ec1a-4f7a-dfba-d9914918702f"
      },
      "outputs": [
        {
          "name": "stdout",
          "output_type": "stream",
          "text": [
            "Upper Boundary: 5058.95\n",
            "Lower Boundary: -2762.62\n"
          ]
        }
      ],
      "source": [
        "#Untuk menghitung up and low boundary\n",
        "avg = (df['trip_seconds'].mean())\n",
        "std = (df['trip_seconds'].std())\n",
        "\n",
        "up_bound = avg + 3*std\n",
        "low_bound = avg - 3*std\n",
        "\n",
        "print(f'Upper Boundary: {up_bound:.2f}' )\n",
        "print(f'Lower Boundary: {low_bound:.2f}')"
      ]
    },
    {
      "cell_type": "code",
      "execution_count": null,
      "metadata": {
        "colab": {
          "base_uri": "https://localhost:8080/"
        },
        "id": "LNYp1GpgBgPv",
        "outputId": "117ce967-2bb6-413e-dee2-48a34fefa3a1"
      },
      "outputs": [
        {
          "name": "stdout",
          "output_type": "stream",
          "text": [
            "Percentage of outliers: 0.53%%\n"
          ]
        }
      ],
      "source": [
        "#Untuk menghitung presentasi outlier\n",
        "outlier = df['trip_seconds'][(df['trip_seconds']<low_bound) | (df['trip_seconds']>up_bound)]\n",
        "no_outlier = df['trip_seconds'][(df['trip_seconds']>=low_bound) & (df['trip_seconds']<=up_bound)]\n",
        "\n",
        "print(f'Percentage of outliers: {len(outlier)*100/len(df[\"trip_seconds\"]):.2f}%%')"
      ]
    },
    {
      "cell_type": "markdown",
      "metadata": {
        "id": "CZtPoeq0Djrw"
      },
      "source": [
        "Normal Distribution: Z-Score"
      ]
    },
    {
      "cell_type": "code",
      "execution_count": null,
      "metadata": {
        "colab": {
          "base_uri": "https://localhost:8080/",
          "height": 385
        },
        "id": "iFmIWWHVDMsO",
        "outputId": "c0c52d97-57ca-4729-f92b-ed5d20d6d1f5"
      },
      "outputs": [
        {
          "data": {
            "text/plain": [
              "<Axes: >"
            ]
          },
          "execution_count": 29,
          "metadata": {},
          "output_type": "execute_result"
        },
        {
          "data": {
            "image/png": "[encoded data removed]",
            "text/plain": [
              "<Figure size 1000x400 with 2 Axes>"
            ]
          },
          "metadata": {},
          "output_type": "display_data"
        }
      ],
      "source": [
        "#Menggunakan analisis Normal Distribution: Z-Score\n",
        "fig, ax = plt.subplots(ncols=2,figsize=(10,4))\n",
        "\n",
        "no_outlier.plot(kind='hist',bins=20,ax=ax[0])\n",
        "no_outlier.plot(kind='box',ax=ax[1])"
      ]
    },
    {
      "cell_type": "markdown",
      "metadata": {
        "id": "klBkP5M8D4hy"
      },
      "source": [
        "karena outliers masih terdeteksi maka kita harus menggunakan satu cara lagi seperti dibawah ini"
      ]
    },
    {
      "cell_type": "markdown",
      "metadata": {
        "id": "v2xvvwXMEm0a"
      },
      "source": [
        "Skew Distribution: Tukey's Rule"
      ]
    },
    {
      "cell_type": "code",
      "execution_count": null,
      "metadata": {
        "colab": {
          "base_uri": "https://localhost:8080/"
        },
        "id": "r0KTa6NVEnod",
        "outputId": "773e97a7-761a-4ac4-d38b-a7613f5652ea"
      },
      "outputs": [
        {
          "name": "stdout",
          "output_type": "stream",
          "text": [
            "Upper Boundary: 3396.00\n",
            "Lower Boundary: -1340.00\n"
          ]
        }
      ],
      "source": [
        "#untuk menghitung upbound dan lowbound\n",
        "q1 = df['trip_seconds'].quantile(0.25)\n",
        "q3 = df['trip_seconds'].quantile(0.75)\n",
        "iqr = q3-q1\n",
        "\n",
        "up_bound = q3 + 1.5*iqr\n",
        "low_bound = q1 - 1.5*iqr\n",
        "\n",
        "print(f'Upper Boundary: {up_bound:.2f}' )\n",
        "print(f'Lower Boundary: {low_bound:.2f}')"
      ]
    },
    {
      "cell_type": "code",
      "execution_count": null,
      "metadata": {
        "colab": {
          "base_uri": "https://localhost:8080/"
        },
        "id": "pSLa9YBrE0V-",
        "outputId": "6e5dfd7b-23c0-4a73-f762-dd5b526a12da"
      },
      "outputs": [
        {
          "name": "stdout",
          "output_type": "stream",
          "text": [
            "Percentage of outliers: 2.40%%\n"
          ]
        }
      ],
      "source": [
        "#untuk menghitung presentasi outlier\n",
        "outlier = df['trip_seconds'][(df['trip_seconds']<low_bound) | (df['trip_seconds']>up_bound)]\n",
        "no_outlier = df['trip_seconds'][(df['trip_seconds']>=low_bound) & (df['trip_seconds']<=up_bound)]\n",
        "\n",
        "print(f'Percentage of outliers: {len(outlier)*100/len(df[\"trip_seconds\"]):.2f}%%')"
      ]
    },
    {
      "cell_type": "code",
      "execution_count": null,
      "metadata": {
        "colab": {
          "base_uri": "https://localhost:8080/",
          "height": 389
        },
        "id": "PLaW-TU_E__5",
        "outputId": "333b000b-ca27-4781-e44e-252d67ab28ac"
      },
      "outputs": [
        {
          "data": {
            "text/plain": [
              "<Axes: >"
            ]
          },
          "execution_count": 33,
          "metadata": {},
          "output_type": "execute_result"
        },
        {
          "data": {
            "image/png": "[encoded data removed]",
            "text/plain": [
              "<Figure size 1000x400 with 2 Axes>"
            ]
          },
          "metadata": {},
          "output_type": "display_data"
        }
      ],
      "source": [
        "fig, ax = plt.subplots(ncols=2,figsize=(10,4))\n",
        "\n",
        "no_outlier.plot(kind='hist',bins=20,ax=ax[0])\n",
        "no_outlier.plot(kind='box',ax=ax[1])"
      ]
    },
    {
      "cell_type": "code",
      "execution_count": null,
      "metadata": {
        "colab": {
          "base_uri": "https://localhost:8080/"
        },
        "id": "P1IfG1u3GtlK",
        "outputId": "83e6d7aa-626a-44da-b1d3-9462df0db5fe"
      },
      "outputs": [
        {
          "name": "stdout",
          "output_type": "stream",
          "text": [
            "Data Saved\n"
          ]
        }
      ],
      "source": [
        "df.to_csv('Data_Outlier_Cleaning.csv', index=False)\n",
        "print('Data Saved')"
      ]
    },
    {
      "cell_type": "markdown",
      "metadata": {},
      "source": [
        "1. Berapa rata-rata, median, dan modus dari data tersebut sebelum dihilangkan outliernya? Bagaimana kecerendungan pemusatan datanya? jelaskan jawabanmu!\n",
        "2. Sebelum melakukan extreme value analysis, kamu harus melakukan pengecekan skewness dari distribusi datanya. Apakah datanya skew atau normal? jelaskan jawabanmu!\n",
        "3. Ada dua teknik untuk melakukan extreme value analysis, teknik yang mana yang kamu pakai? berikan alasanmu berdasarkan data!"
      ]
    },
    {
      "cell_type": "markdown",
      "metadata": {},
      "source": [
        "1.\n",
        "2. menurut data yang saya analisis bahwa distribusi data pada kolom trip_seconds memiliki Highly Skewed dan untuk kurtosisnya adalah tipe leptocurtic artinya adaalah memiliki ekor yang lebih berat dibandingkan distribusi normal tetapi itu membuat data mungkin tidak normal\n",
        "3. saya memakai kedua teknik yaitu Normal Distribution: Z-Score dan Skew Distribution: Tukey's Rule menurut saya cara kedua yaitu Skew Distribution: Tukey's Rule lebih efektif bekerja menghilangkan outlier pada data yang sedang saya analisis walaupun hasil akhirnya saya gagal dan masih menyisakan sedikit outlier"
      ]
    }
  ],
  "metadata": {
    "colab": {
      "provenance": []
    },
    "kernelspec": {
      "display_name": "Python 3",
      "name": "python3"
    },
    "language_info": {
      "codemirror_mode": {
        "name": "ipython",
        "version": 3
      },
      "file_extension": ".py",
      "mimetype": "text/x-python",
      "name": "python",
      "nbconvert_exporter": "python",
      "pygments_lexer": "ipython3",
      "version": "3.11.5"
    }
  },
  "nbformat": 4,
  "nbformat_minor": 0
}
